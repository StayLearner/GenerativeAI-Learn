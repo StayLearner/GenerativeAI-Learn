{
 "cells": [
  {
   "cell_type": "code",
   "execution_count": 9,
   "id": "6f84fec4",
   "metadata": {},
   "outputs": [
    {
     "name": "stdout",
     "output_type": "stream",
     "text": [
      "Demonstration of DOCX support in calibre\n",
      "\n",
      "This document demonstrates the ability of the calibre DOCX Input plugin to convert the various typographic features in a Microsoft Word (2007 and newer) docum\n",
      "---------\n",
      "<class 'langchain_core.documents.base.Document'>\n",
      "---------\n",
      "{'source': 'data/documents/sample.docx'}\n"
     ]
    }
   ],
   "source": [
    "from langchain_community.document_loaders import Docx2txtLoader, UnstructuredWordDocumentLoader\n",
    "\n",
    "\n",
    "\n",
    "try:\n",
    "     load_doc_file= Docx2txtLoader(\"data/documents/sample.docx\")\n",
    "     doc_file= load_doc_file.load()\n",
    "\n",
    "     print(doc_file[0].page_content[:200])\n",
    "     print(\"---------\")\n",
    "     print(type(doc_file[0]))\n",
    "     print(\"---------\")\n",
    "     print(doc_file[0].metadata)\n",
    "except Exception as e:\n",
    "    print(f\"Error loading PDF: {e}\")"
   ]
  },
  {
   "cell_type": "code",
   "execution_count": 8,
   "id": "42550f05",
   "metadata": {},
   "outputs": [
    {
     "name": "stdout",
     "output_type": "stream",
     "text": [
      "Loaded 1 elements\n",
      "\n",
      "Element 1:\n",
      "Type: unknown\n",
      "Content: Demonstration of DOCX support in calibre\n",
      "\n",
      "This document demonstrates the ability of the calibre DOCX ... \n"
     ]
    }
   ],
   "source": [
    "# Method 2: UnstructuredWordDocumentLoader \n",
    "try:\n",
    "    load_doc_file = UnstructuredWordDocumentLoader(\"data/documents/sample.docx\")\n",
    "    doc_file = load_doc_file.load() \n",
    "\n",
    "  \n",
    "    print(f\"Loaded {len(doc_file)} elements\") \n",
    "    \n",
    "    for i, doc in enumerate(doc_file[:500]): \n",
    "        print(f\"\\nElement {i+1}:\")\n",
    "        print(f\"Type: {doc.metadata.get('category', 'unknown')}\")\n",
    "        print(f\"Content: {doc.page_content[:100]} ... \")\n",
    "     \n",
    "except FileNotFoundError:\n",
    "    print(\"Error: The file 'data/documents/sample.docx' was not found.\")\n",
    "except Exception as e:\n",
    "    print(f\"Error loading document: {e}\")"
   ]
  }
 ],
 "metadata": {
  "kernelspec": {
   "display_name": "GenerativeAI-Project",
   "language": "python",
   "name": "python3"
  },
  "language_info": {
   "codemirror_mode": {
    "name": "ipython",
    "version": 3
   },
   "file_extension": ".py",
   "mimetype": "text/x-python",
   "name": "python",
   "nbconvert_exporter": "python",
   "pygments_lexer": "ipython3",
   "version": "3.13.5"
  }
 },
 "nbformat": 4,
 "nbformat_minor": 5
}
