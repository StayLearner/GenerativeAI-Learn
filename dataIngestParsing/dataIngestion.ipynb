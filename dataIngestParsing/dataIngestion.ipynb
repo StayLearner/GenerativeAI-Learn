{
 "cells": [
  {
   "cell_type": "code",
   "execution_count": 22,
   "id": "4f4cf81f",
   "metadata": {},
   "outputs": [],
   "source": [
    "import os\n",
    "from typing import List, Dict, Any\n",
    "\n",
    "import pandas as pd"
   ]
  },
  {
   "cell_type": "code",
   "execution_count": 23,
   "id": "c01f134a",
   "metadata": {},
   "outputs": [
    {
     "name": "stdout",
     "output_type": "stream",
     "text": [
      "Setup completed\n"
     ]
    }
   ],
   "source": [
    "from langchain_core.documents import Document\n",
    "from langchain_text_splitters import (\n",
    "    CharacterTextSplitter,\n",
    "    RecursiveCharacterTextSplitter,\n",
    "    TokenTextSplitter,\n",
    ")\n",
    "\n",
    "print(\"Setup completed\")\n"
   ]
  },
  {
   "cell_type": "code",
   "execution_count": 24,
   "id": "430bd303",
   "metadata": {},
   "outputs": [
    {
     "name": "stdout",
     "output_type": "stream",
     "text": [
      "Document created\n",
      "This is a test document\n",
      "{'source': 'test', 'page': 1, 'date': '2020-01-01', 'author': 'John Doe', 'tags': ['test', 'example']}\n"
     ]
    }
   ],
   "source": [
    "doc= Document(\n",
    "    page_content=\"This is a test document\",\n",
    "    metadata={\"source\": \"test\", \"page\": 1, \"date\": \"2020-01-01\", \"author\": \"John Doe\", \"tags\": [\"test\", \"example\"]}\n",
    ")\n",
    "\n",
    "print(\"Document created\")\n",
    "\n",
    "print(doc.page_content)\n",
    "print(doc.metadata)"
   ]
  },
  {
   "cell_type": "code",
   "execution_count": 25,
   "id": "b05dbfe1",
   "metadata": {},
   "outputs": [],
   "source": [
    "import os\n",
    "os.makedirs(\"data/text_files\", exist_ok=True) "
   ]
  },
  {
   "cell_type": "code",
   "execution_count": 26,
   "id": "b576a8dd",
   "metadata": {},
   "outputs": [
    {
     "name": "stdout",
     "output_type": "stream",
     "text": [
      "File data/text_files/file1.txt created\n",
      "File data/text_files/file2.txt created\n",
      "File data/text_files/file3.txt created\n"
     ]
    }
   ],
   "source": [
    "sample_data={\n",
    "    \"data/text_files/file1.txt\": \"\"\"Python\n",
    "Python is a high-level, interpreted language known for its clean syntax and readability. It's often praised for being easy to learn.\n",
    "\n",
    "Primary Use Cases:\n",
    "\n",
    "Data Science, AI & Machine Learning: This is its biggest domain. It's the standard for libraries like Pandas, NumPy, Scikit-learn, TensorFlow, and PyTorch.\n",
    "\n",
    "Web Development (Backend): Used to build server-side applications with frameworks like Django and Flask.\n",
    "\n",
    "Scripting & Automation: Widely used for automating repetitive tasks, writing system scripts, and building developer tools.\n",
    "\n",
    "Popularity Data:\n",
    "\n",
    "TIOBE Index: Consistently ranks as the #1 most popular programming language worldwide.\n",
    "\n",
    "Stack Overflow Survey: Regularly voted the most \"wanted\" language (meaning developers who don't use it want to learn it) and is one of the most commonly used.\n",
    "\n",
    "Community: Has an extremely large and active community, especially in scientific and data-focused fields\"\"\",\n",
    "    \"data/text_files/file2.txt\": \"\"\"JavaScript (JS)\n",
    "JavaScript is a high-level, dynamic language that is the core technology of the web. It's the only language that runs natively in web browsers.\n",
    "\n",
    "Primary Use Cases:\n",
    "\n",
    "Frontend Web Development: Used to create all interactive elements on a website. It powers frameworks like React, Angular, and Vue.\n",
    "\n",
    "Backend Web Development: With Node.js, JavaScript can run on the server, allowing for full-stack development using a single language.\n",
    "\n",
    "Mobile Apps: Used in frameworks like React Native to build cross-platform mobile apps.\n",
    "\n",
    "Desktop Apps: Used with frameworks like Electron (which powers VS Code and Slack).\n",
    "\n",
    "Popularity Data:\n",
    "\n",
    "Stack Overflow Survey: Has been the most commonly used programming language for over a decade.\n",
    "\n",
    "GitHub: Consistently has the most repositories and active projects.\n",
    "\n",
    "Ecosystem: The npm (Node Package Manager) is the largest ecosystem of open-source libraries in the world.\"\"\",\n",
    "    \"data/text_files/file3.txt\": \"\"\"Java is a compiled, class-based, object-oriented language known for its \"Write Once, Run Anywhere\" (WORA) philosophy, meaning compiled Java code can run on all platforms that support Java without recompilation. It is known for its stability, security, and performance.\n",
    "\n",
    "Primary Use Cases:\n",
    "\n",
    "Enterprise Applications: The dominant language for large-scale, backend systems at corporations, banks, and financial institutions, often using the Spring framework.\n",
    "\n",
    "Android App Development: The original and still primary language for building native Android applications.\n",
    "\n",
    "Big Data Systems: Many major big data tools, like Apache Hadoop, Kafka, and Spark, are written in Java or Scala (which runs on the Java Virtual Machine).\n",
    "\n",
    "Popularity Data:\n",
    "\n",
    "TIOBE Index: A long-standing top-tier language, consistently ranking in the top 3 or 4 for decades, indicating massive, sustained global use.\n",
    "\n",
    "Job Market: The demand for Java developers remains extremely high, especially in enterprise-level and finance jobs, due to the enormous existing codebase in the world.\"\"\"\n",
    "}\n",
    "\n",
    "\n",
    "for filepath,content in sample_data.items():\n",
    "    with open(filepath,'w', encoding=\"utf-8\") as f:\n",
    "        f.write(content)\n",
    "\n",
    "        print(f\"File {filepath} created\")"
   ]
  },
  {
   "cell_type": "code",
   "execution_count": 27,
   "id": "b22d13d4",
   "metadata": {},
   "outputs": [
    {
     "name": "stdout",
     "output_type": "stream",
     "text": [
      "<class 'list'>\n",
      "[Document(metadata={'source': 'data/text_files/file1.txt'}, page_content='Python\\nPython is a high-level, interpreted language known for its clean syntax and readability. It\\'s often praised for being easy to learn.\\n\\nPrimary Use Cases:\\n\\nData Science, AI & Machine Learning: This is its biggest domain. It\\'s the standard for libraries like Pandas, NumPy, Scikit-learn, TensorFlow, and PyTorch.\\n\\nWeb Development (Backend): Used to build server-side applications with frameworks like Django and Flask.\\n\\nScripting & Automation: Widely used for automating repetitive tasks, writing system scripts, and building developer tools.\\n\\nPopularity Data:\\n\\nTIOBE Index: Consistently ranks as the #1 most popular programming language worldwide.\\n\\nStack Overflow Survey: Regularly voted the most \"wanted\" language (meaning developers who don\\'t use it want to learn it) and is one of the most commonly used.\\n\\nCommunity: Has an extremely large and active community, especially in scientific and data-focused fields')]\n",
      "{'source': 'data/text_files/file1.txt'}\n",
      "Python\n",
      "Python is a high-level, interpreted language known for its clean syntax and readability. It's often praised for being easy to learn.\n",
      "\n",
      "Primary Use Cases:\n",
      "\n",
      "Data Science, AI & Machine Learning: This is its biggest domain. It's the standard for libraries like Pandas, NumPy, Scikit-learn, TensorFlow, and PyTorch.\n",
      "\n",
      "Web Development (Backend): Used to build server-side applications with frameworks like Django and Flask.\n",
      "\n",
      "Scripting & Automation: Widely used for automating repetitive tasks, writing system scripts, and building developer tools.\n",
      "\n",
      "Popularity Data:\n",
      "\n",
      "TIOBE Index: Consistently ranks as the #1 most popular programming language worldwide.\n",
      "\n",
      "Stack Overflow Survey: Regularly voted the most \"wanted\" language (meaning developers who don't use it want to learn it) and is one of the most commonly used.\n",
      "\n",
      "Community: Has an extremely large and active community, especially in scientific and data-focused fields\n"
     ]
    }
   ],
   "source": [
    "# from langchain.document_loaders import TextLoader\n",
    "from langchain_community.document_loaders import TextLoader\n",
    "\n",
    "\n",
    "loader = TextLoader(\"data/text_files/file1.txt\")\n",
    "documents = loader.load()\n",
    "\n",
    "print(type(documents))\n",
    "print(documents)\n",
    "\n",
    "\n",
    "print(documents[0].metadata)\n",
    "print(documents[0].page_content)"
   ]
  },
  {
   "cell_type": "code",
   "execution_count": 28,
   "id": "bdde071d",
   "metadata": {},
   "outputs": [
    {
     "name": "stderr",
     "output_type": "stream",
     "text": [
      "100%|██████████| 3/3 [00:00<00:00, 3405.39it/s]"
     ]
    },
    {
     "name": "stdout",
     "output_type": "stream",
     "text": [
      "<class 'list'>\n",
      " Loaded 3 documents\n",
      "\n",
      "Document 1:\n",
      "source: data/text_files/file2.txt\n",
      ". Length: 908 characters\n",
      "\n",
      "Document 2:\n",
      "source: data/text_files/file3.txt\n",
      ". Length: 1048 characters\n",
      "\n",
      "Document 3:\n",
      "source: data/text_files/file1.txt\n",
      ". Length: 918 characters\n"
     ]
    },
    {
     "name": "stderr",
     "output_type": "stream",
     "text": [
      "\n"
     ]
    }
   ],
   "source": [
    "### Direcytory Loaders\n",
    "\n",
    "from langchain_community.document_loaders import DirectoryLoader\n",
    "\n",
    "loader = DirectoryLoader(\"data/text_files\", glob=\"*.txt\",\n",
    "                         loader_cls=TextLoader, ### LOADER CLASS TO USE\n",
    "                         loader_kwargs={\"encoding\": \"utf-8\"},\n",
    "                         show_progress=True)\n",
    "documents = loader.load()\n",
    "\n",
    "print(type(documents))\n",
    "\n",
    "print(f\" Loaded {len(documents)} documents\")\n",
    "for i, doc in enumerate(documents):\n",
    "\n",
    "  print(f\"\\nDocument {i+1}:\")\n",
    "  print(f\"source: {doc.metadata['source']}\")\n",
    "  print(f\". Length: {len(doc.page_content)} characters\")\n",
    "\n",
    "\n"
   ]
  },
  {
   "cell_type": "code",
   "execution_count": 29,
   "id": "dee44b19",
   "metadata": {},
   "outputs": [
    {
     "name": "stdout",
     "output_type": "stream",
     "text": [
      "6\n",
      "JavaScript (JS)\n",
      "JavaScript is a high-level, dynamic language that is the core technology of the web. It's the only language that runs natively in web browsers.\n",
      "Primary Use Cases:\n",
      "---------\n",
      "Frontend Web Development: Used to create all interactive elements on a website. It powers frameworks like React, Angular, and Vue.\n"
     ]
    }
   ],
   "source": [
    "# method - Character-Based Text Splitting\n",
    "\n",
    "char_splitter = CharacterTextSplitter(chunk_size=200, chunk_overlap=10,separator=\"\\n\",length_function=len)\n",
    "\n",
    "char_chunks = char_splitter.split_text(documents[0].page_content)\n",
    "\n",
    "print(len(char_chunks))\n",
    "print(char_chunks[0])\n",
    "print(\"---------\")\n",
    "print(char_chunks[1])"
   ]
  },
  {
   "cell_type": "code",
   "execution_count": 31,
   "id": "91105f2b",
   "metadata": {},
   "outputs": [
    {
     "name": "stdout",
     "output_type": "stream",
     "text": [
      "5\n",
      "JavaScript (JS)\n",
      "JavaScript is a high-level, dynamic language that is the core technology of the web. It's the only language that runs natively in web browsers.\n",
      "Primary Use Cases:\n",
      "---------\n",
      "Frontend Web Development: Used to create all interactive elements on a website. It powers frameworks like React, Angular, and Vue.\n"
     ]
    }
   ],
   "source": [
    "###  recursive Character-Based Text Splitting\n",
    "\n",
    "recursive_char_splitter = RecursiveCharacterTextSplitter(chunk_size=200, chunk_overlap=10,separators=[\" \"],length_function=len)\n",
    "\n",
    "recursive_char_chunks = recursive_char_splitter.split_text(documents[0].page_content)\n",
    "\n",
    "print(len(recursive_char_chunks))\n",
    "print(char_chunks[0])\n",
    "print(\"---------\")\n",
    "print(char_chunks[1])"
   ]
  },
  {
   "cell_type": "code",
   "execution_count": 34,
   "id": "d88e73a3",
   "metadata": {},
   "outputs": [
    {
     "name": "stdout",
     "output_type": "stream",
     "text": [
      "Created 7 chunks\n",
      "JavaScript (JS)\n",
      "JavaScript is a high-level, dynamic language that is the core technology of the web. It's the only language that runs natively in web browsers.\n",
      "\n",
      "\n",
      "---------\n",
      " that runs natively in web browsers.\n",
      "\n",
      "Primary Use Cases:\n",
      "\n",
      "Frontend Web Development: Used to create all interactive elements on a website. It powers frameworks like React, Angular, and\n"
     ]
    }
   ],
   "source": [
    "### Token Bsased Splitting\n",
    "\n",
    "token_splitter= TokenTextSplitter(\n",
    "    chunk_size=40,\n",
    "    chunk_overlap=10,\n",
    "    length_function=len\n",
    ")\n",
    "\n",
    "token_chunks= token_splitter.split_text(documents[0].page_content)\n",
    "\n",
    "print(f\"Created {len(token_chunks)} chunks\")\n",
    "print(token_chunks[0])\n",
    "print(\"---------\")\n",
    "print(token_chunks[1])"
   ]
  }
 ],
 "metadata": {
  "kernelspec": {
   "display_name": "Python 3",
   "language": "python",
   "name": "python3"
  },
  "language_info": {
   "codemirror_mode": {
    "name": "ipython",
    "version": 3
   },
   "file_extension": ".py",
   "mimetype": "text/x-python",
   "name": "python",
   "nbconvert_exporter": "python",
   "pygments_lexer": "ipython3",
   "version": "3.13.5"
  }
 },
 "nbformat": 4,
 "nbformat_minor": 5
}
