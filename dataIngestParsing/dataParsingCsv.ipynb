{
 "cells": [
  {
   "cell_type": "code",
   "execution_count": 8,
   "id": "16d14179",
   "metadata": {},
   "outputs": [],
   "source": [
    "import pandas\n",
    "import os\n",
    "\n",
    "os.makedirs(\"data/structured_files\", exist_ok=True)\n",
    "\n"
   ]
  },
  {
   "cell_type": "code",
   "execution_count": 9,
   "id": "5235b110",
   "metadata": {},
   "outputs": [],
   "source": [
    "# Create sample data and save it to a CSV file\n",
    "data = {\n",
    "'Product': ['Laptop', 'Mouse', 'Keyboard', 'Monitor', 'Webcam'],\n",
    "'Category': ['Electronics', 'Accessories', 'Accessories', 'Electronics', 'Electronics'],\n",
    "'Price': [999.99, 29.99, 79.99, 299.99, 89.99],\n",
    "'Stock': [50, 200, 150, 75, 100],\n",
    "'Description': [\n",
    "'High-performance laptop with 16GB RAM and 512GB SSD',\n",
    "'Wireless optical mouse with ergonomic design',\n",
    "'Mechanical keyboard with RGB backlighting',\n",
    "'27-inch 4K monitor with HDR support',\n",
    "'1080p webcam with noise cancellation'\n",
    "]\n",
    "}\n",
    "\n",
    "df= pandas.DataFrame(data)\n",
    "df.to_csv(\"data/structured_files/data.csv\", index=False)"
   ]
  },
  {
   "cell_type": "code",
   "execution_count": 10,
   "id": "17798a82",
   "metadata": {},
   "outputs": [],
   "source": [
    "# Create sample data and save it to Excel file\n",
    "\n",
    "import pandas as pd\n",
    "\n",
    "\n",
    "with pd.ExcelWriter('data/structured_files/data.xlsx') as writer:\n",
    "    df.to_excel(writer, sheet_name='Sheet1', index= False)\n",
    "\n",
    "    summary_data ={\n",
    "        'Category': ['Electronics', 'Accessories', 'Electronics'],\n",
    "        'Product Count': [3, 2, 2],\n",
    "        'Average Price': [1000, 50, 150],\n",
    "        'Total Stock': [100, 300, 200],\n",
    "\n",
    "    }\n",
    "    pd.DataFrame(summary_data).to_excel(writer, sheet_name='Sheet2', index=False)"
   ]
  },
  {
   "cell_type": "code",
   "execution_count": 11,
   "id": "84423ca9",
   "metadata": {},
   "outputs": [
    {
     "name": "stdout",
     "output_type": "stream",
     "text": [
      "<class 'list'>\n",
      "[Document(metadata={'source': 'data/structured_files/data.csv', 'row': 0}, page_content='Product: Laptop\\nCategory: Electronics\\nPrice: 999.99\\nStock: 50\\nDescription: High-performance laptop with 16GB RAM and 512GB SSD'), Document(metadata={'source': 'data/structured_files/data.csv', 'row': 1}, page_content='Product: Mouse\\nCategory: Accessories\\nPrice: 29.99\\nStock: 200\\nDescription: Wireless optical mouse with ergonomic design'), Document(metadata={'source': 'data/structured_files/data.csv', 'row': 2}, page_content='Product: Keyboard\\nCategory: Accessories\\nPrice: 79.99\\nStock: 150\\nDescription: Mechanical keyboard with RGB backlighting'), Document(metadata={'source': 'data/structured_files/data.csv', 'row': 3}, page_content='Product: Monitor\\nCategory: Electronics\\nPrice: 299.99\\nStock: 75\\nDescription: 27-inch 4K monitor with HDR support'), Document(metadata={'source': 'data/structured_files/data.csv', 'row': 4}, page_content='Product: Webcam\\nCategory: Electronics\\nPrice: 89.99\\nStock: 100\\nDescription: 1080p webcam with noise cancellation')]\n"
     ]
    }
   ],
   "source": [
    "# CSV Loader\n",
    "\n",
    "from langchain_community.document_loaders import CSVLoader\n",
    "from langchain_community.document_loaders import UnstructuredCSVLoader\n",
    "\n",
    "\n",
    "\n",
    "loader = CSVLoader(file_path='data/structured_files/data.csv',\n",
    "                   encoding='utf-8',\n",
    "                   csv_args={'delimiter': ','})\n",
    "documents = loader.load()\n",
    "\n",
    "print(type(documents))\n",
    "print(documents)"
   ]
  },
  {
   "cell_type": "code",
   "execution_count": 12,
   "id": "c8955808",
   "metadata": {},
   "outputs": [
    {
     "name": "stdout",
     "output_type": "stream",
     "text": [
      "<class 'list'>\n",
      "[Document(metadata={'source': 'data/structured_files/data.xlsx'}, page_content='Product Category Price Stock Description Laptop Electronics 999.99 50 High-performance laptop with 16GB RAM and 512GB SSD Mouse Accessories 29.99 200 Wireless optical mouse with ergonomic design Keyboard Accessories 79.99 150 Mechanical keyboard with RGB backlighting Monitor Electronics 299.99 75 27-inch 4K monitor with HDR support Webcam Electronics 89.99 100 1080p webcam with noise cancellation\\n\\nCategory Product Count Average Price Total Stock Electronics 3 1000 100 Accessories 2 50 300 Electronics 2 150 200')]\n"
     ]
    }
   ],
   "source": [
    "# Excel Loader\n",
    "\n",
    "from langchain_community.document_loaders import UnstructuredExcelLoader\n",
    "\n",
    "loader = UnstructuredExcelLoader(file_path='data/structured_files/data.xlsx')\n",
    "documents = loader.load()\n",
    "\n",
    "print(type(documents))\n",
    "print(documents)"
   ]
  }
 ],
 "metadata": {
  "kernelspec": {
   "display_name": "GenerativeAI-Project",
   "language": "python",
   "name": "python3"
  },
  "language_info": {
   "codemirror_mode": {
    "name": "ipython",
    "version": 3
   },
   "file_extension": ".py",
   "mimetype": "text/x-python",
   "name": "python",
   "nbconvert_exporter": "python",
   "pygments_lexer": "ipython3",
   "version": "3.13.5"
  }
 },
 "nbformat": 4,
 "nbformat_minor": 5
}
